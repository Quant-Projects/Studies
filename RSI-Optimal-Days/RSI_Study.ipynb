{
  "nbformat": 4,
  "nbformat_minor": 0,
  "metadata": {
    "colab": {
      "name": "RSI_Study.ipynb",
      "version": "0.3.2",
      "provenance": []
    },
    "kernelspec": {
      "name": "python3",
      "display_name": "Python 3"
    }
  },
  "cells": [
    {
      "metadata": {
        "id": "QEZPsizuKjE9",
        "colab_type": "code",
        "outputId": "4e9e17d7-1319-4de6-ef9a-5144ad6ae69a",
        "colab": {
          "base_uri": "https://localhost:8080/",
          "height": 136
        }
      },
      "cell_type": "code",
      "source": [
        "import pandas as pd\n",
        "import matplotlib.pyplot as plt\n",
        "\n",
        "%matplotlib inline\n",
        "\n",
        "!pip install stockstats\n",
        "from stockstats import StockDataFrame as Sdf\n",
        "\n",
        "from sklearn.model_selection import cross_val_score\n",
        "from sklearn.linear_model import LinearRegression"
      ],
      "execution_count": 144,
      "outputs": [
        {
          "output_type": "stream",
          "text": [
            "Requirement already satisfied: stockstats in /usr/local/lib/python3.6/dist-packages (0.2.0)\n",
            "Requirement already satisfied: pandas>=0.18.1 in /usr/local/lib/python3.6/dist-packages (from stockstats) (0.22.0)\n",
            "Requirement already satisfied: numpy>=1.9.2 in /usr/local/lib/python3.6/dist-packages (from stockstats) (1.14.6)\n",
            "Requirement already satisfied: int-date>=0.1.7 in /usr/local/lib/python3.6/dist-packages (from stockstats) (0.1.8)\n",
            "Requirement already satisfied: python-dateutil>=2 in /usr/local/lib/python3.6/dist-packages (from pandas>=0.18.1->stockstats) (2.5.3)\n",
            "Requirement already satisfied: pytz>=2011k in /usr/local/lib/python3.6/dist-packages (from pandas>=0.18.1->stockstats) (2018.7)\n",
            "Requirement already satisfied: six>=1.9.0 in /usr/local/lib/python3.6/dist-packages (from int-date>=0.1.7->stockstats) (1.11.0)\n"
          ],
          "name": "stdout"
        }
      ]
    },
    {
      "metadata": {
        "id": "UjcxbU-8LM1H",
        "colab_type": "code",
        "colab": {}
      },
      "cell_type": "code",
      "source": [
        "data1 = pd.read_csv(\"AAPL.csv\")\n",
        "data2 = pd.read_csv(\"FB.csv\")\n",
        "data3 = pd.read_csv(\"TSLA.csv\")"
      ],
      "execution_count": 0,
      "outputs": []
    },
    {
      "metadata": {
        "id": "CANVqI96L1uN",
        "colab_type": "code",
        "colab": {}
      },
      "cell_type": "code",
      "source": [
        "stock1 = Sdf.retype(data1)\n",
        "stock2 = Sdf.retype(data2)\n",
        "stock3 = Sdf.retype(data3)"
      ],
      "execution_count": 0,
      "outputs": []
    },
    {
      "metadata": {
        "id": "rlirn7OEL-bE",
        "colab_type": "code",
        "outputId": "11b64034-0f8c-424d-a829-710cfe0c521a",
        "colab": {
          "base_uri": "https://localhost:8080/",
          "height": 153
        }
      },
      "cell_type": "code",
      "source": [
        "for i in range(20, 51):\n",
        "  data1['rsi' + str(i)] = stock1['rsi_' + str(i)]\n",
        "  data2['rsi' + str(i)] = stock2['rsi_' + str(i)]\n",
        "  data3['rsi' + str(i)] = stock3['rsi_' + str(i)]\n",
        "  if i % 10 == 1:\n",
        "    print(i // 10)"
      ],
      "execution_count": 147,
      "outputs": [
        {
          "output_type": "stream",
          "text": [
            "/usr/local/lib/python3.6/dist-packages/pandas/core/indexing.py:194: SettingWithCopyWarning: \n",
            "A value is trying to be set on a copy of a slice from a DataFrame\n",
            "\n",
            "See the caveats in the documentation: http://pandas.pydata.org/pandas-docs/stable/indexing.html#indexing-view-versus-copy\n",
            "  self._setitem_with_indexer(indexer, value)\n"
          ],
          "name": "stderr"
        },
        {
          "output_type": "stream",
          "text": [
            "2\n",
            "3\n",
            "4\n"
          ],
          "name": "stdout"
        }
      ]
    },
    {
      "metadata": {
        "id": "_WyHEpD9MVve",
        "colab_type": "code",
        "outputId": "ed7daa7e-f461-4d6e-8a06-920009f56a1a",
        "colab": {
          "base_uri": "https://localhost:8080/",
          "height": 369
        }
      },
      "cell_type": "code",
      "source": [
        "data1.head()"
      ],
      "execution_count": 148,
      "outputs": [
        {
          "output_type": "execute_result",
          "data": {
            "text/html": [
              "<div>\n",
              "<style scoped>\n",
              "    .dataframe tbody tr th:only-of-type {\n",
              "        vertical-align: middle;\n",
              "    }\n",
              "\n",
              "    .dataframe tbody tr th {\n",
              "        vertical-align: top;\n",
              "    }\n",
              "\n",
              "    .dataframe thead th {\n",
              "        text-align: right;\n",
              "    }\n",
              "</style>\n",
              "<table border=\"1\" class=\"dataframe\">\n",
              "  <thead>\n",
              "    <tr style=\"text-align: right;\">\n",
              "      <th></th>\n",
              "      <th>open</th>\n",
              "      <th>high</th>\n",
              "      <th>low</th>\n",
              "      <th>close</th>\n",
              "      <th>adj close</th>\n",
              "      <th>volume</th>\n",
              "      <th>close_-1_s</th>\n",
              "      <th>close_-1_d</th>\n",
              "      <th>rs_20</th>\n",
              "      <th>rsi_20</th>\n",
              "      <th>...</th>\n",
              "      <th>rsi47</th>\n",
              "      <th>rs_48</th>\n",
              "      <th>rsi_48</th>\n",
              "      <th>rsi48</th>\n",
              "      <th>rs_49</th>\n",
              "      <th>rsi_49</th>\n",
              "      <th>rsi49</th>\n",
              "      <th>rs_50</th>\n",
              "      <th>rsi_50</th>\n",
              "      <th>rsi50</th>\n",
              "    </tr>\n",
              "    <tr>\n",
              "      <th>date</th>\n",
              "      <th></th>\n",
              "      <th></th>\n",
              "      <th></th>\n",
              "      <th></th>\n",
              "      <th></th>\n",
              "      <th></th>\n",
              "      <th></th>\n",
              "      <th></th>\n",
              "      <th></th>\n",
              "      <th></th>\n",
              "      <th></th>\n",
              "      <th></th>\n",
              "      <th></th>\n",
              "      <th></th>\n",
              "      <th></th>\n",
              "      <th></th>\n",
              "      <th></th>\n",
              "      <th></th>\n",
              "      <th></th>\n",
              "      <th></th>\n",
              "      <th></th>\n",
              "    </tr>\n",
              "  </thead>\n",
              "  <tbody>\n",
              "    <tr>\n",
              "      <th>2018-12-04</th>\n",
              "      <td>180.949997</td>\n",
              "      <td>182.389999</td>\n",
              "      <td>176.270004</td>\n",
              "      <td>176.690002</td>\n",
              "      <td>176.690002</td>\n",
              "      <td>41344300</td>\n",
              "      <td>NaN</td>\n",
              "      <td>NaN</td>\n",
              "      <td>NaN</td>\n",
              "      <td>NaN</td>\n",
              "      <td>...</td>\n",
              "      <td>NaN</td>\n",
              "      <td>NaN</td>\n",
              "      <td>NaN</td>\n",
              "      <td>NaN</td>\n",
              "      <td>NaN</td>\n",
              "      <td>NaN</td>\n",
              "      <td>NaN</td>\n",
              "      <td>NaN</td>\n",
              "      <td>NaN</td>\n",
              "      <td>NaN</td>\n",
              "    </tr>\n",
              "    <tr>\n",
              "      <th>2018-12-06</th>\n",
              "      <td>171.759995</td>\n",
              "      <td>174.779999</td>\n",
              "      <td>170.419998</td>\n",
              "      <td>174.720001</td>\n",
              "      <td>174.720001</td>\n",
              "      <td>43098400</td>\n",
              "      <td>176.690002</td>\n",
              "      <td>-1.970001</td>\n",
              "      <td>0.000000</td>\n",
              "      <td>0.000000</td>\n",
              "      <td>...</td>\n",
              "      <td>0.000000</td>\n",
              "      <td>0.000000</td>\n",
              "      <td>0.000000</td>\n",
              "      <td>0.000000</td>\n",
              "      <td>0.000000</td>\n",
              "      <td>0.000000</td>\n",
              "      <td>0.000000</td>\n",
              "      <td>0.000000</td>\n",
              "      <td>0.000000</td>\n",
              "      <td>0.000000</td>\n",
              "    </tr>\n",
              "    <tr>\n",
              "      <th>2018-12-07</th>\n",
              "      <td>173.490005</td>\n",
              "      <td>174.490005</td>\n",
              "      <td>168.300003</td>\n",
              "      <td>168.490005</td>\n",
              "      <td>168.490005</td>\n",
              "      <td>42281600</td>\n",
              "      <td>174.720001</td>\n",
              "      <td>-6.229996</td>\n",
              "      <td>0.000000</td>\n",
              "      <td>0.000000</td>\n",
              "      <td>...</td>\n",
              "      <td>0.000000</td>\n",
              "      <td>0.000000</td>\n",
              "      <td>0.000000</td>\n",
              "      <td>0.000000</td>\n",
              "      <td>0.000000</td>\n",
              "      <td>0.000000</td>\n",
              "      <td>0.000000</td>\n",
              "      <td>0.000000</td>\n",
              "      <td>0.000000</td>\n",
              "      <td>0.000000</td>\n",
              "    </tr>\n",
              "    <tr>\n",
              "      <th>2018-12-10</th>\n",
              "      <td>165.000000</td>\n",
              "      <td>170.089996</td>\n",
              "      <td>163.330002</td>\n",
              "      <td>169.600006</td>\n",
              "      <td>169.600006</td>\n",
              "      <td>62026000</td>\n",
              "      <td>168.490005</td>\n",
              "      <td>1.110001</td>\n",
              "      <td>0.144223</td>\n",
              "      <td>12.604448</td>\n",
              "      <td>...</td>\n",
              "      <td>12.205181</td>\n",
              "      <td>0.138942</td>\n",
              "      <td>12.199183</td>\n",
              "      <td>12.199183</td>\n",
              "      <td>0.138867</td>\n",
              "      <td>12.193435</td>\n",
              "      <td>12.193435</td>\n",
              "      <td>0.138795</td>\n",
              "      <td>12.187921</td>\n",
              "      <td>12.187921</td>\n",
              "    </tr>\n",
              "    <tr>\n",
              "      <th>2018-12-11</th>\n",
              "      <td>171.660004</td>\n",
              "      <td>171.789993</td>\n",
              "      <td>167.000000</td>\n",
              "      <td>168.630005</td>\n",
              "      <td>168.630005</td>\n",
              "      <td>47281700</td>\n",
              "      <td>169.600006</td>\n",
              "      <td>-0.970001</td>\n",
              "      <td>0.127331</td>\n",
              "      <td>11.294873</td>\n",
              "      <td>...</td>\n",
              "      <td>11.005806</td>\n",
              "      <td>0.123613</td>\n",
              "      <td>11.001418</td>\n",
              "      <td>11.001418</td>\n",
              "      <td>0.123560</td>\n",
              "      <td>10.997212</td>\n",
              "      <td>10.997212</td>\n",
              "      <td>0.123509</td>\n",
              "      <td>10.993175</td>\n",
              "      <td>10.993175</td>\n",
              "    </tr>\n",
              "  </tbody>\n",
              "</table>\n",
              "<p>5 rows × 101 columns</p>\n",
              "</div>"
            ],
            "text/plain": [
              "                  open        high         low       close   adj close  \\\n",
              "date                                                                     \n",
              "2018-12-04  180.949997  182.389999  176.270004  176.690002  176.690002   \n",
              "2018-12-06  171.759995  174.779999  170.419998  174.720001  174.720001   \n",
              "2018-12-07  173.490005  174.490005  168.300003  168.490005  168.490005   \n",
              "2018-12-10  165.000000  170.089996  163.330002  169.600006  169.600006   \n",
              "2018-12-11  171.660004  171.789993  167.000000  168.630005  168.630005   \n",
              "\n",
              "              volume  close_-1_s  close_-1_d     rs_20     rsi_20    ...      \\\n",
              "date                                                                 ...       \n",
              "2018-12-04  41344300         NaN         NaN       NaN        NaN    ...       \n",
              "2018-12-06  43098400  176.690002   -1.970001  0.000000   0.000000    ...       \n",
              "2018-12-07  42281600  174.720001   -6.229996  0.000000   0.000000    ...       \n",
              "2018-12-10  62026000  168.490005    1.110001  0.144223  12.604448    ...       \n",
              "2018-12-11  47281700  169.600006   -0.970001  0.127331  11.294873    ...       \n",
              "\n",
              "                rsi47     rs_48     rsi_48      rsi48     rs_49     rsi_49  \\\n",
              "date                                                                         \n",
              "2018-12-04        NaN       NaN        NaN        NaN       NaN        NaN   \n",
              "2018-12-06   0.000000  0.000000   0.000000   0.000000  0.000000   0.000000   \n",
              "2018-12-07   0.000000  0.000000   0.000000   0.000000  0.000000   0.000000   \n",
              "2018-12-10  12.205181  0.138942  12.199183  12.199183  0.138867  12.193435   \n",
              "2018-12-11  11.005806  0.123613  11.001418  11.001418  0.123560  10.997212   \n",
              "\n",
              "                rsi49     rs_50     rsi_50      rsi50  \n",
              "date                                                   \n",
              "2018-12-04        NaN       NaN        NaN        NaN  \n",
              "2018-12-06   0.000000  0.000000   0.000000   0.000000  \n",
              "2018-12-07   0.000000  0.000000   0.000000   0.000000  \n",
              "2018-12-10  12.193435  0.138795  12.187921  12.187921  \n",
              "2018-12-11  10.997212  0.123509  10.993175  10.993175  \n",
              "\n",
              "[5 rows x 101 columns]"
            ]
          },
          "metadata": {
            "tags": []
          },
          "execution_count": 148
        }
      ]
    },
    {
      "metadata": {
        "id": "1lUXBcLwM6jR",
        "colab_type": "code",
        "colab": {}
      },
      "cell_type": "code",
      "source": [
        "scores1 = []\n",
        "scores2 = []\n",
        "scores3 = []\n",
        "coefs1 = []\n",
        "coefs2 = []\n",
        "coefs3 = []"
      ],
      "execution_count": 0,
      "outputs": []
    },
    {
      "metadata": {
        "id": "SP6y4NVOMbwv",
        "colab_type": "code",
        "outputId": "a670c268-eaaa-4c30-8c1f-eb9d1b14c405",
        "colab": {
          "base_uri": "https://localhost:8080/",
          "height": 85
        }
      },
      "cell_type": "code",
      "source": [
        "for i in range(20, 51):\n",
        "  X1 = data1['rsi' + str(i)].shift(10).dropna()\n",
        "  y1 = data1['adj close'][11:]\n",
        "  X2 = data2['rsi' + str(i)].shift(10).dropna()\n",
        "  y2 = data2['adj close'][11:]\n",
        "  X3 = data3['rsi' + str(i)].shift(10).dropna()\n",
        "  y3 = data3['adj close'][11:]\n",
        "   \n",
        "  lr1 = LinearRegression()\n",
        "  lr2 = LinearRegression()\n",
        "  lr3 = LinearRegression()\n",
        "  \n",
        "  lr1.fit(X1.values.reshape(-1, 1), y1.values.reshape(-1, 1))\n",
        "  lr2.fit(X2.values.reshape(-1, 1), y2.values.reshape(-1, 1))\n",
        "  lr3.fit(X3.values.reshape(-1, 1), y3.values.reshape(-1, 1))\n",
        "  \n",
        "  coefs1.append(lr1.coef_[0])\n",
        "  coefs2.append(lr2.coef_[0])\n",
        "  coefs3.append(lr3.coef_[0])\n",
        "  \n",
        "  score1 = cross_val_score(lr1, X1.values.reshape(-1, 1), y1.values.reshape(-1, 1), cv=5, n_jobs=-1, scoring='neg_mean_squared_error')\n",
        "  score2 = cross_val_score(lr2, X2.values.reshape(-1, 1), y2.values.reshape(-1, 1), cv=5, n_jobs=-1, scoring='neg_mean_squared_error')\n",
        "  score3 = cross_val_score(lr3, X3.values.reshape(-1, 1), y2.values.reshape(-1, 1), cv=5, n_jobs=-1, scoring='neg_mean_squared_error')\n",
        "  \n",
        "  scores1.append(score1.mean())\n",
        "  scores2.append(score2.mean())\n",
        "  scores3.append(score3.mean())\n",
        "  \n",
        "  if i % 10 == 0:\n",
        "    print(i // 10)"
      ],
      "execution_count": 150,
      "outputs": [
        {
          "output_type": "stream",
          "text": [
            "2\n",
            "3\n",
            "4\n",
            "5\n"
          ],
          "name": "stdout"
        }
      ]
    },
    {
      "metadata": {
        "id": "MVc190daQRCM",
        "colab_type": "code",
        "colab": {
          "base_uri": "https://localhost:8080/",
          "height": 544
        },
        "outputId": "1030be86-c79f-4d28-a2da-285d0a75de1d"
      },
      "cell_type": "code",
      "source": [
        "scores1"
      ],
      "execution_count": 151,
      "outputs": [
        {
          "output_type": "execute_result",
          "data": {
            "text/plain": [
              "[-67.1983081652604,\n",
              " -67.1890268083108,\n",
              " -67.18059200893089,\n",
              " -67.17288377453158,\n",
              " -67.16580525203585,\n",
              " -67.15927716315333,\n",
              " -67.15323381066497,\n",
              " -67.14762015598828,\n",
              " -67.14238964254443,\n",
              " -67.1375025483262,\n",
              " -67.13292472061016,\n",
              " -67.12862659111126,\n",
              " -67.1245824000325,\n",
              " -67.12076957785976,\n",
              " -67.1171682477981,\n",
              " -67.11376082154985,\n",
              " -67.11053166810616,\n",
              " -67.10746684021578,\n",
              " -67.10455384684099,\n",
              " -67.10178146260155,\n",
              " -67.09913956719444,\n",
              " -67.09661900929916,\n",
              " -67.09421149061437,\n",
              " -67.09190946655447,\n",
              " -67.08970606081455,\n",
              " -67.08759499155241,\n",
              " -67.08557050733839,\n",
              " -67.08362733137491,\n",
              " -67.08176061273834,\n",
              " -67.07996588361405,\n",
              " -67.07823902166949]"
            ]
          },
          "metadata": {
            "tags": []
          },
          "execution_count": 151
        }
      ]
    },
    {
      "metadata": {
        "id": "BwwQ1wRGPz74",
        "colab_type": "code",
        "colab": {
          "base_uri": "https://localhost:8080/",
          "height": 299
        },
        "outputId": "7e95e528-ad4f-4fee-a6c6-6e676d98bc7e"
      },
      "cell_type": "code",
      "source": [
        "axes = plt.gca()\n",
        "axes.set_ylim([66, 68])\n",
        "plt.xticks(rotation=90)\n",
        "plt.title(\"AAPL Mean Squared Error of RSI ranging from 20 to 50 days\")\n",
        "plt.bar([str(i) for i in range(20, 51)], [abs(a) for a in scores1], width=.5, color='red')"
      ],
      "execution_count": 152,
      "outputs": [
        {
          "output_type": "execute_result",
          "data": {
            "text/plain": [
              "<Container object of 31 artists>"
            ]
          },
          "metadata": {
            "tags": []
          },
          "execution_count": 152
        },
        {
          "output_type": "display_data",
          "data": {
            "image/png": "[encoded data removed]",
            "text/plain": [
              "<matplotlib.figure.Figure at 0x7f65e8624cc0>"
            ]
          },
          "metadata": {
            "tags": []
          }
        }
      ]
    },
    {
      "metadata": {
        "id": "gYKS03ZSUbSL",
        "colab_type": "code",
        "colab": {
          "base_uri": "https://localhost:8080/",
          "height": 544
        },
        "outputId": "0456ae14-82ee-45c6-9b70-f7885e3de2c0"
      },
      "cell_type": "code",
      "source": [
        "scores2"
      ],
      "execution_count": 153,
      "outputs": [
        {
          "output_type": "execute_result",
          "data": {
            "text/plain": [
              "[-2757.9573802514424,\n",
              " -2771.873314108688,\n",
              " -2785.6161832908647,\n",
              " -2799.1650442945697,\n",
              " -2812.501203115887,\n",
              " -2825.6079709548803,\n",
              " -2838.4704519172847,\n",
              " -2851.0753623125956,\n",
              " -2863.410878835699,\n",
              " -2875.4665118599773,\n",
              " -2887.23299978832,\n",
              " -2898.702220573202,\n",
              " -2909.8671169104246,\n",
              " -2920.7216320974385,\n",
              " -2931.260654046958,\n",
              " -2941.479965416055,\n",
              " -2951.376198229665,\n",
              " -2960.9467917379325,\n",
              " -2970.1899525495555,\n",
              " -2979.1046163324672,\n",
              " -2987.690410574827,\n",
              " -2995.947618060157,\n",
              " -3003.877140836407,\n",
              " -3011.480464556036,\n",
              " -3018.7596231376942,\n",
              " -3025.7171637541237,\n",
              " -3032.3561121894536,\n",
              " -3038.6799386350167,\n",
              " -3044.692524008923,\n",
              " -3050.398126893085,\n",
              " -3055.801351183732]"
            ]
          },
          "metadata": {
            "tags": []
          },
          "execution_count": 153
        }
      ]
    },
    {
      "metadata": {
        "id": "alBTESodT_qP",
        "colab_type": "code",
        "colab": {
          "base_uri": "https://localhost:8080/",
          "height": 299
        },
        "outputId": "d1e3f6f9-e0ee-406f-d1db-2ce126555b6a"
      },
      "cell_type": "code",
      "source": [
        "axes = plt.gca()\n",
        "axes.set_ylim([2750, 3060])\n",
        "plt.xticks(rotation=90)\n",
        "plt.title(\"FB Mean Squared Error of RSI from 20 to 50 days\")\n",
        "plt.bar([str(i) for i in range(20, 51)], [abs(a) for a in scores2], width=.5, color='blue')"
      ],
      "execution_count": 154,
      "outputs": [
        {
          "output_type": "execute_result",
          "data": {
            "text/plain": [
              "<Container object of 31 artists>"
            ]
          },
          "metadata": {
            "tags": []
          },
          "execution_count": 154
        },
        {
          "output_type": "display_data",
          "data": {
            "image/png": "[encoded data removed]",
            "text/plain": [
              "<matplotlib.figure.Figure at 0x7f65e8558d68>"
            ]
          },
          "metadata": {
            "tags": []
          }
        }
      ]
    },
    {
      "metadata": {
        "id": "BEEo-f3wU1H1",
        "colab_type": "code",
        "colab": {
          "base_uri": "https://localhost:8080/",
          "height": 544
        },
        "outputId": "5191b71d-102c-48de-9735-d99bb864e056"
      },
      "cell_type": "code",
      "source": [
        "scores3"
      ],
      "execution_count": 155,
      "outputs": [
        {
          "output_type": "execute_result",
          "data": {
            "text/plain": [
              "[-2564.735560532986,\n",
              " -2569.797980871029,\n",
              " -2575.1613207937976,\n",
              " -2580.8135677744003,\n",
              " -2586.741381351617,\n",
              " -2592.930375088749,\n",
              " -2599.3653756612557,\n",
              " -2606.030657633397,\n",
              " -2612.910153678446,\n",
              " -2619.9876408065966,\n",
              " -2627.2469036809694,\n",
              " -2634.6718764047873,\n",
              " -2642.2467643162977,\n",
              " -2649.9561473813255,\n",
              " -2657.785066762238,\n",
              " -2665.719096091925,\n",
              " -2673.744398909287,\n",
              " -2681.84777362992,\n",
              " -2690.016687339338,\n",
              " -2698.2392996100675,\n",
              " -2706.5044774607913,\n",
              " -2714.801802496132,\n",
              " -2723.1215711901496,\n",
              " -2731.4547892047985,\n",
              " -2739.7931605665303,\n",
              " -2748.1290724591568,\n",
              " -2756.4555763292274,\n",
              " -2764.7663659407385,\n",
              " -2773.05575295939,\n",
              " -2781.318640592285,\n",
              " -2789.5504957572575]"
            ]
          },
          "metadata": {
            "tags": []
          },
          "execution_count": 155
        }
      ]
    },
    {
      "metadata": {
        "id": "XRrH3XjbUqlt",
        "colab_type": "code",
        "colab": {
          "base_uri": "https://localhost:8080/",
          "height": 299
        },
        "outputId": "a26e6ba9-b4a9-4761-8545-3e7d4bb14d5f"
      },
      "cell_type": "code",
      "source": [
        "axes = plt.gca()\n",
        "axes.set_ylim([2750, 3060])\n",
        "plt.xticks(rotation=90)\n",
        "plt.title(\"TSLA Mean Squared Error of RSI from 20 to 50 days\")\n",
        "plt.bar([str(i) for i in range(20, 51)], [abs(a) for a in scores2], width=.5, color='blue')"
      ],
      "execution_count": 156,
      "outputs": [
        {
          "output_type": "execute_result",
          "data": {
            "text/plain": [
              "<Container object of 31 artists>"
            ]
          },
          "metadata": {
            "tags": []
          },
          "execution_count": 156
        },
        {
          "output_type": "display_data",
          "data": {
            "image/png": "[encoded data removed]",
            "text/plain": [
              "<matplotlib.figure.Figure at 0x7f65e8458dd8>"
            ]
          },
          "metadata": {
            "tags": []
          }
        }
      ]
    },
    {
      "metadata": {
        "id": "V3FXzaYSU_uc",
        "colab_type": "text"
      },
      "cell_type": "markdown",
      "source": [
        "**Conclusion** \n",
        "\n",
        "            RSI is not a very good indicator unless the stock has very low voltality (but most of the time, RSI is a *terrible* indicator).\n",
        "            \n",
        "            If the stock doesn't have a very high voltality, then the number of days used for RSI doesn't really matter.  However most of the time, the less days that are used for RSI, the better.  \n",
        "            \n",
        "            ***DISCLAIMER***: RSI is a very bad indicator due to it being overused by traders."
      ]
    }
  ]
}