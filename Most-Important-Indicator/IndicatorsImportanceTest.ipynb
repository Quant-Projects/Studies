{
  "nbformat": 4,
  "nbformat_minor": 0,
  "metadata": {
    "colab": {
      "name": "IndicatorsImportanceTest.ipynb",
      "version": "0.3.2",
      "provenance": [],
      "collapsed_sections": []
    },
    "kernelspec": {
      "name": "python3",
      "display_name": "Python 3"
    }
  },
  "cells": [
    {
      "metadata": {
        "id": "DVBNi5wbGGVk",
        "colab_type": "code",
        "colab": {}
      },
      "cell_type": "code",
      "source": [
        "import pandas as pd\n",
        "from sklearn.ensemble import RandomForestRegressor\n",
        "from sklearn.linear_model import LinearRegression\n",
        "from sklearn.model_selection import train_test_split\n",
        "from sklearn.metrics import mean_squared_error\n",
        "import matplotlib.pyplot as plt\n",
        "import numpy as np\n",
        "\n",
        "%matplotlib inline\n",
        "\n",
        "!pip install -q stockstats\n",
        "\n",
        "from stockstats import StockDataFrame as Sdf\n",
        "#stockstats module is used to easily compute technical indicators in a pandas dataframe.\n",
        "\n",
        "np.random.seed(42)"
      ],
      "execution_count": 0,
      "outputs": []
    },
    {
      "metadata": {
        "id": "12LY2GwZaRbS",
        "colab_type": "text"
      },
      "cell_type": "markdown",
      "source": [
        "This is a study to determine one of the most underlying questions in investing: What is the most significant technical indicator?\n",
        "\n",
        "This study will use linear regression's coeficients to determine what the most important indicators are."
      ]
    },
    {
      "metadata": {
        "id": "-4Lu5vuYHdEW",
        "colab_type": "code",
        "colab": {}
      },
      "cell_type": "code",
      "source": [
        "data = pd.read_csv(\"TSLA.csv\")\n",
        "\n",
        "stock = Sdf.retype(data)"
      ],
      "execution_count": 0,
      "outputs": []
    },
    {
      "metadata": {
        "id": "M-ww9n23H2MK",
        "colab_type": "code",
        "colab": {}
      },
      "cell_type": "code",
      "source": [
        "data['CR'] = stock['cr']\n",
        "data['kdjk'] = stock['kdjk']\n",
        "data['kdjd'] = stock['kdjd']\n",
        "data['kdjj'] = stock['kdjj']\n",
        "data['open_10_sma'] = stock['open_10_sma']\n",
        "data['macd'] = stock['macd']\n",
        "data['boll'] = stock['boll']\n",
        "data['rsi'] = stock['rsi_10']\n",
        "data['wr'] = stock['wr_10']\n",
        "data['cci'] = stock['cci_10']\n",
        "data['tr'] = stock['tr']\n",
        "data['dma'] = stock['dma']\n",
        "data['pdi'] = stock['pdi']\n",
        "data['mdi'] = stock['mdi']\n",
        "data['dx'] = stock['dx']\n",
        "data['vr'] = stock['vr']\n",
        "data['vr_10_sma'] = stock['vr_10_sma']\n",
        "data['trix'] = stock['trix']\n",
        "data['adx'] = stock['adx']\n",
        "data['adxr'] = stock['adxr']"
      ],
      "execution_count": 0,
      "outputs": []
    },
    {
      "metadata": {
        "id": "b_yhyrqLIr5d",
        "colab_type": "code",
        "colab": {}
      },
      "cell_type": "code",
      "source": [
        "data.tail()"
      ],
      "execution_count": 0,
      "outputs": []
    },
    {
      "metadata": {
        "id": "mUFvORvEKyHg",
        "colab_type": "code",
        "colab": {}
      },
      "cell_type": "code",
      "source": [
        "data.isnull().any()"
      ],
      "execution_count": 0,
      "outputs": []
    },
    {
      "metadata": {
        "id": "5YVoznNNKz4N",
        "colab_type": "code",
        "colab": {}
      },
      "cell_type": "code",
      "source": [
        "data.isnull().sum() / len(data)"
      ],
      "execution_count": 0,
      "outputs": []
    },
    {
      "metadata": {
        "id": "93-kVXU9K3jk",
        "colab_type": "code",
        "colab": {}
      },
      "cell_type": "code",
      "source": [
        "data.dropna(inplace=True)"
      ],
      "execution_count": 0,
      "outputs": []
    },
    {
      "metadata": {
        "id": "AdTQIpzLLjve",
        "colab_type": "code",
        "colab": {}
      },
      "cell_type": "code",
      "source": [
        "rf = LinearRegression()"
      ],
      "execution_count": 0,
      "outputs": []
    },
    {
      "metadata": {
        "id": "MZf76jF3K6gP",
        "colab_type": "code",
        "colab": {}
      },
      "cell_type": "code",
      "source": [
        "X = data.drop(['open', 'high', 'low', 'close', 'adj close', 'volume', 'middle', 'close_-1_s'], axis=1).shift(10).dropna()\n",
        "y = (data['adj close'] > data['adj close'].shift(10)).dropna()\n",
        "\n",
        "trainX, testX, trainY, testY = train_test_split(X.values, y[10:].values, test_size=.2)"
      ],
      "execution_count": 0,
      "outputs": []
    },
    {
      "metadata": {
        "id": "StIPlsxJL8hH",
        "colab_type": "code",
        "colab": {}
      },
      "cell_type": "code",
      "source": [
        "rf.fit(trainX, trainY)"
      ],
      "execution_count": 0,
      "outputs": []
    },
    {
      "metadata": {
        "id": "x-bTocAeVQCD",
        "colab_type": "code",
        "colab": {}
      },
      "cell_type": "code",
      "source": [
        "mean_squared_error(testY, rf.predict(testX))"
      ],
      "execution_count": 0,
      "outputs": []
    },
    {
      "metadata": {
        "id": "dL6QBcx_MDla",
        "colab_type": "code",
        "colab": {}
      },
      "cell_type": "code",
      "source": [
        "for i in range(len(X.keys())):\n",
        "  print(X.keys()[i], rf.coef_[i] * 100)"
      ],
      "execution_count": 0,
      "outputs": []
    },
    {
      "metadata": {
        "id": "5r8KKJsDNAz7",
        "colab_type": "code",
        "colab": {}
      },
      "cell_type": "code",
      "source": [
        "plt.xticks(rotation=90, fontsize=10)\n",
        "plt.rcParams[\"figure.figsize\"] = (20,8)\n",
        "plt.bar([a for a in X.keys()], abs(rf.coef_), width=.5, color='red')"
      ],
      "execution_count": 0,
      "outputs": []
    },
    {
      "metadata": {
        "id": "UqgsGtjMbHlv",
        "colab_type": "text"
      },
      "cell_type": "markdown",
      "source": [
        "Conclusion: Bollinger bands, and Moving Averages are the most important indicators of the closing price."
      ]
    }
  ]
}