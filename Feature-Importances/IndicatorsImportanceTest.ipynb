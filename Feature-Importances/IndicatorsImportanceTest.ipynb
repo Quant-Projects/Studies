{
  "nbformat": 4,
  "nbformat_minor": 0,
  "metadata": {
    "colab": {
      "name": "IndicatorsImportanceTest.ipynb",
      "version": "0.3.2",
      "provenance": [],
      "collapsed_sections": []
    },
    "kernelspec": {
      "name": "python3",
      "display_name": "Python 3"
    }
  },
  "cells": [
    {
      "metadata": {
        "id": "DVBNi5wbGGVk",
        "colab_type": "code",
        "colab": {}
      },
      "cell_type": "code",
      "source": [
        "import pandas as pd\n",
        "from sklearn.ensemble import RandomForestRegressor\n",
        "from sklearn.linear_model import LinearRegression\n",
        "from sklearn.model_selection import train_test_split\n",
        "from sklearn.metrics import mean_squared_error\n",
        "import matplotlib.pyplot as plt\n",
        "import numpy as np\n",
        "\n",
        "%matplotlib inline\n",
        "\n",
        "!pip install -q stockstats\n",
        "\n",
        "from stockstats import StockDataFrame as Sdf\n",
        "#stockstats module is used to easily compute technical indicators in a pandas dataframe.\n",
        "\n",
        "np.random.seed(42)"
      ],
      "execution_count": 0,
      "outputs": []
    },
    {
      "metadata": {
        "id": "12LY2GwZaRbS",
        "colab_type": "text"
      },
      "cell_type": "markdown",
      "source": [
        "This is a study to determine one of the most underlying questions in investing: What is the most significant technical indicator?\n",
        "\n",
        "This study will use linear regression's coeficients to determine what the most important indicators are."
      ]
    },
    {
      "metadata": {
        "id": "-4Lu5vuYHdEW",
        "colab_type": "code",
        "colab": {}
      },
      "cell_type": "code",
      "source": [
        "data = pd.read_csv(\"TSLA.csv\")\n",
        "\n",
        "stock = Sdf.retype(data)"
      ],
      "execution_count": 0,
      "outputs": []
    },
    {
      "metadata": {
        "id": "M-ww9n23H2MK",
        "colab_type": "code",
        "outputId": "a0c17993-f776-4d8b-de64-14a2a911dd83",
        "colab": {
          "base_uri": "https://localhost:8080/",
          "height": 102
        }
      },
      "cell_type": "code",
      "source": [
        "data['CR'] = stock['cr']\n",
        "data['kdjk'] = stock['kdjk']\n",
        "data['kdjd'] = stock['kdjd']\n",
        "data['kdjj'] = stock['kdjj']\n",
        "data['open_10_sma'] = stock['open_10_sma']\n",
        "data['macd'] = stock['macd']\n",
        "data['boll'] = stock['boll']\n",
        "data['rsi'] = stock['rsi_10']\n",
        "data['wr'] = stock['wr_10']\n",
        "data['cci'] = stock['cci_10']\n",
        "data['tr'] = stock['tr']\n",
        "data['dma'] = stock['dma']\n",
        "data['pdi'] = stock['pdi']\n",
        "data['mdi'] = stock['mdi']\n",
        "data['dx'] = stock['dx']\n",
        "data['vr'] = stock['vr']\n",
        "data['vr_10_sma'] = stock['vr_10_sma']\n",
        "data['trix'] = stock['trix']\n",
        "data['adx'] = stock['adx']\n",
        "data['adxr'] = stock['adxr']"
      ],
      "execution_count": 5,
      "outputs": [
        {
          "output_type": "stream",
          "text": [
            "/usr/local/lib/python3.6/dist-packages/pandas/core/indexing.py:194: SettingWithCopyWarning: \n",
            "A value is trying to be set on a copy of a slice from a DataFrame\n",
            "\n",
            "See the caveats in the documentation: http://pandas.pydata.org/pandas-docs/stable/indexing.html#indexing-view-versus-copy\n",
            "  self._setitem_with_indexer(indexer, value)\n"
          ],
          "name": "stderr"
        }
      ]
    },
    {
      "metadata": {
        "id": "b_yhyrqLIr5d",
        "colab_type": "code",
        "outputId": "67b5b9e6-a9f3-4f7d-958d-0b3d15379619",
        "colab": {
          "base_uri": "https://localhost:8080/",
          "height": 369
        }
      },
      "cell_type": "code",
      "source": [
        "data.tail()"
      ],
      "execution_count": 6,
      "outputs": [
        {
          "output_type": "execute_result",
          "data": {
            "text/html": [
              "<div>\n",
              "<style scoped>\n",
              "    .dataframe tbody tr th:only-of-type {\n",
              "        vertical-align: middle;\n",
              "    }\n",
              "\n",
              "    .dataframe tbody tr th {\n",
              "        vertical-align: top;\n",
              "    }\n",
              "\n",
              "    .dataframe thead th {\n",
              "        text-align: right;\n",
              "    }\n",
              "</style>\n",
              "<table border=\"1\" class=\"dataframe\">\n",
              "  <thead>\n",
              "    <tr style=\"text-align: right;\">\n",
              "      <th></th>\n",
              "      <th>open</th>\n",
              "      <th>high</th>\n",
              "      <th>low</th>\n",
              "      <th>close</th>\n",
              "      <th>adj close</th>\n",
              "      <th>volume</th>\n",
              "      <th>middle</th>\n",
              "      <th>cr</th>\n",
              "      <th>cr-ma1</th>\n",
              "      <th>cr-ma2</th>\n",
              "      <th>...</th>\n",
              "      <th>dx_14</th>\n",
              "      <th>dx</th>\n",
              "      <th>dx_6_ema</th>\n",
              "      <th>adx</th>\n",
              "      <th>adx_6_ema</th>\n",
              "      <th>adxr</th>\n",
              "      <th>change</th>\n",
              "      <th>vr</th>\n",
              "      <th>vr_10_sma</th>\n",
              "      <th>trix</th>\n",
              "    </tr>\n",
              "    <tr>\n",
              "      <th>date</th>\n",
              "      <th></th>\n",
              "      <th></th>\n",
              "      <th></th>\n",
              "      <th></th>\n",
              "      <th></th>\n",
              "      <th></th>\n",
              "      <th></th>\n",
              "      <th></th>\n",
              "      <th></th>\n",
              "      <th></th>\n",
              "      <th></th>\n",
              "      <th></th>\n",
              "      <th></th>\n",
              "      <th></th>\n",
              "      <th></th>\n",
              "      <th></th>\n",
              "      <th></th>\n",
              "      <th></th>\n",
              "      <th></th>\n",
              "      <th></th>\n",
              "      <th></th>\n",
              "    </tr>\n",
              "  </thead>\n",
              "  <tbody>\n",
              "    <tr>\n",
              "      <th>2018-12-24</th>\n",
              "      <td>313.500000</td>\n",
              "      <td>314.500000</td>\n",
              "      <td>295.200012</td>\n",
              "      <td>295.390015</td>\n",
              "      <td>295.390015</td>\n",
              "      <td>5559900</td>\n",
              "      <td>301.696676</td>\n",
              "      <td>79.382477</td>\n",
              "      <td>118.858918</td>\n",
              "      <td>136.648366</td>\n",
              "      <td>...</td>\n",
              "      <td>65.224403</td>\n",
              "      <td>65.224403</td>\n",
              "      <td>49.015813</td>\n",
              "      <td>49.015813</td>\n",
              "      <td>40.755939</td>\n",
              "      <td>40.755939</td>\n",
              "      <td>-7.624222</td>\n",
              "      <td>85.402152</td>\n",
              "      <td>111.692423</td>\n",
              "      <td>-0.008333</td>\n",
              "    </tr>\n",
              "    <tr>\n",
              "      <th>2018-12-26</th>\n",
              "      <td>300.000000</td>\n",
              "      <td>326.970001</td>\n",
              "      <td>294.089996</td>\n",
              "      <td>326.089996</td>\n",
              "      <td>326.089996</td>\n",
              "      <td>8163100</td>\n",
              "      <td>315.716664</td>\n",
              "      <td>86.532127</td>\n",
              "      <td>107.974560</td>\n",
              "      <td>130.574856</td>\n",
              "      <td>...</td>\n",
              "      <td>35.229068</td>\n",
              "      <td>35.229068</td>\n",
              "      <td>45.076743</td>\n",
              "      <td>45.076743</td>\n",
              "      <td>41.990454</td>\n",
              "      <td>41.990454</td>\n",
              "      <td>10.393033</td>\n",
              "      <td>89.064140</td>\n",
              "      <td>107.136174</td>\n",
              "      <td>-0.105924</td>\n",
              "    </tr>\n",
              "    <tr>\n",
              "      <th>2018-12-27</th>\n",
              "      <td>319.839996</td>\n",
              "      <td>322.170013</td>\n",
              "      <td>301.500000</td>\n",
              "      <td>316.130005</td>\n",
              "      <td>316.130005</td>\n",
              "      <td>8575100</td>\n",
              "      <td>313.266673</td>\n",
              "      <td>79.943703</td>\n",
              "      <td>98.801134</td>\n",
              "      <td>125.887982</td>\n",
              "      <td>...</td>\n",
              "      <td>35.229068</td>\n",
              "      <td>35.229068</td>\n",
              "      <td>42.263121</td>\n",
              "      <td>42.263121</td>\n",
              "      <td>42.068359</td>\n",
              "      <td>42.068359</td>\n",
              "      <td>-3.054369</td>\n",
              "      <td>74.950676</td>\n",
              "      <td>103.008607</td>\n",
              "      <td>-0.191961</td>\n",
              "    </tr>\n",
              "    <tr>\n",
              "      <th>2018-12-28</th>\n",
              "      <td>323.100006</td>\n",
              "      <td>336.239990</td>\n",
              "      <td>318.410004</td>\n",
              "      <td>333.869995</td>\n",
              "      <td>333.869995</td>\n",
              "      <td>9939000</td>\n",
              "      <td>329.506663</td>\n",
              "      <td>83.211805</td>\n",
              "      <td>91.990487</td>\n",
              "      <td>122.711916</td>\n",
              "      <td>...</td>\n",
              "      <td>6.252790</td>\n",
              "      <td>6.252790</td>\n",
              "      <td>31.974455</td>\n",
              "      <td>31.974455</td>\n",
              "      <td>39.184386</td>\n",
              "      <td>39.184386</td>\n",
              "      <td>5.611612</td>\n",
              "      <td>92.984581</td>\n",
              "      <td>98.377510</td>\n",
              "      <td>-0.246501</td>\n",
              "    </tr>\n",
              "    <tr>\n",
              "      <th>2018-12-31</th>\n",
              "      <td>337.790009</td>\n",
              "      <td>339.209991</td>\n",
              "      <td>325.260010</td>\n",
              "      <td>332.799988</td>\n",
              "      <td>332.799988</td>\n",
              "      <td>6297400</td>\n",
              "      <td>332.423330</td>\n",
              "      <td>94.998059</td>\n",
              "      <td>89.980587</td>\n",
              "      <td>117.129702</td>\n",
              "      <td>...</td>\n",
              "      <td>0.982555</td>\n",
              "      <td>0.982555</td>\n",
              "      <td>23.119627</td>\n",
              "      <td>23.119627</td>\n",
              "      <td>34.594455</td>\n",
              "      <td>34.594455</td>\n",
              "      <td>-0.320486</td>\n",
              "      <td>94.677820</td>\n",
              "      <td>93.832248</td>\n",
              "      <td>-0.278793</td>\n",
              "    </tr>\n",
              "  </tbody>\n",
              "</table>\n",
              "<p>5 rows × 68 columns</p>\n",
              "</div>"
            ],
            "text/plain": [
              "                  open        high         low       close   adj close  \\\n",
              "date                                                                     \n",
              "2018-12-24  313.500000  314.500000  295.200012  295.390015  295.390015   \n",
              "2018-12-26  300.000000  326.970001  294.089996  326.089996  326.089996   \n",
              "2018-12-27  319.839996  322.170013  301.500000  316.130005  316.130005   \n",
              "2018-12-28  323.100006  336.239990  318.410004  333.869995  333.869995   \n",
              "2018-12-31  337.790009  339.209991  325.260010  332.799988  332.799988   \n",
              "\n",
              "             volume      middle         cr      cr-ma1      cr-ma2    ...     \\\n",
              "date                                                                  ...      \n",
              "2018-12-24  5559900  301.696676  79.382477  118.858918  136.648366    ...      \n",
              "2018-12-26  8163100  315.716664  86.532127  107.974560  130.574856    ...      \n",
              "2018-12-27  8575100  313.266673  79.943703   98.801134  125.887982    ...      \n",
              "2018-12-28  9939000  329.506663  83.211805   91.990487  122.711916    ...      \n",
              "2018-12-31  6297400  332.423330  94.998059   89.980587  117.129702    ...      \n",
              "\n",
              "                dx_14         dx   dx_6_ema        adx  adx_6_ema       adxr  \\\n",
              "date                                                                           \n",
              "2018-12-24  65.224403  65.224403  49.015813  49.015813  40.755939  40.755939   \n",
              "2018-12-26  35.229068  35.229068  45.076743  45.076743  41.990454  41.990454   \n",
              "2018-12-27  35.229068  35.229068  42.263121  42.263121  42.068359  42.068359   \n",
              "2018-12-28   6.252790   6.252790  31.974455  31.974455  39.184386  39.184386   \n",
              "2018-12-31   0.982555   0.982555  23.119627  23.119627  34.594455  34.594455   \n",
              "\n",
              "               change         vr   vr_10_sma      trix  \n",
              "date                                                    \n",
              "2018-12-24  -7.624222  85.402152  111.692423 -0.008333  \n",
              "2018-12-26  10.393033  89.064140  107.136174 -0.105924  \n",
              "2018-12-27  -3.054369  74.950676  103.008607 -0.191961  \n",
              "2018-12-28   5.611612  92.984581   98.377510 -0.246501  \n",
              "2018-12-31  -0.320486  94.677820   93.832248 -0.278793  \n",
              "\n",
              "[5 rows x 68 columns]"
            ]
          },
          "metadata": {
            "tags": []
          },
          "execution_count": 6
        }
      ]
    },
    {
      "metadata": {
        "id": "mUFvORvEKyHg",
        "colab_type": "code",
        "outputId": "e9d31763-76b8-4759-bbef-e5c86d47fb64",
        "colab": {
          "base_uri": "https://localhost:8080/",
          "height": 1071
        }
      },
      "cell_type": "code",
      "source": [
        "data.isnull().any()"
      ],
      "execution_count": 7,
      "outputs": [
        {
          "output_type": "execute_result",
          "data": {
            "text/plain": [
              "open             False\n",
              "high             False\n",
              "low              False\n",
              "close            False\n",
              "adj close        False\n",
              "volume           False\n",
              "middle           False\n",
              "cr                True\n",
              "cr-ma1            True\n",
              "cr-ma2            True\n",
              "cr-ma3            True\n",
              "CR                True\n",
              "rsv_9            False\n",
              "kdjk_9           False\n",
              "kdjk             False\n",
              "kdjd_9           False\n",
              "kdjd             False\n",
              "kdjj_9           False\n",
              "kdjj             False\n",
              "open_10_sma      False\n",
              "close_26_ema     False\n",
              "macd             False\n",
              "macds            False\n",
              "macdh            False\n",
              "close_20_sma     False\n",
              "close_20_mstd     True\n",
              "boll             False\n",
              "boll_ub           True\n",
              "boll_lb           True\n",
              "close_-1_s        True\n",
              "                 ...  \n",
              "cci               True\n",
              "tr                True\n",
              "close_10_sma     False\n",
              "close_50_sma     False\n",
              "dma              False\n",
              "high_delta        True\n",
              "um                True\n",
              "low_delta         True\n",
              "dm                True\n",
              "pdm              False\n",
              "pdm_14_ema       False\n",
              "pdm_14           False\n",
              "atr_14            True\n",
              "pdi_14            True\n",
              "pdi               True\n",
              "mdm              False\n",
              "mdm_14_ema       False\n",
              "mdm_14           False\n",
              "mdi_14            True\n",
              "mdi               True\n",
              "dx_14             True\n",
              "dx                True\n",
              "dx_6_ema          True\n",
              "adx               True\n",
              "adx_6_ema         True\n",
              "adxr              True\n",
              "change            True\n",
              "vr                True\n",
              "vr_10_sma         True\n",
              "trix              True\n",
              "Length: 68, dtype: bool"
            ]
          },
          "metadata": {
            "tags": []
          },
          "execution_count": 7
        }
      ]
    },
    {
      "metadata": {
        "id": "5YVoznNNKz4N",
        "colab_type": "code",
        "outputId": "95b5fe83-c8e4-41a0-9e05-bc5f8e9a33db",
        "colab": {
          "base_uri": "https://localhost:8080/",
          "height": 1071
        }
      },
      "cell_type": "code",
      "source": [
        "data.isnull().sum() / len(data)"
      ],
      "execution_count": 8,
      "outputs": [
        {
          "output_type": "execute_result",
          "data": {
            "text/plain": [
              "open             0.000000\n",
              "high             0.000000\n",
              "low              0.000000\n",
              "close            0.000000\n",
              "adj close        0.000000\n",
              "volume           0.000000\n",
              "middle           0.000000\n",
              "cr               0.000467\n",
              "cr-ma1           0.002334\n",
              "cr-ma2           0.003268\n",
              "cr-ma3           0.005135\n",
              "CR               0.000467\n",
              "rsv_9            0.000000\n",
              "kdjk_9           0.000000\n",
              "kdjk             0.000000\n",
              "kdjd_9           0.000000\n",
              "kdjd             0.000000\n",
              "kdjj_9           0.000000\n",
              "kdjj             0.000000\n",
              "open_10_sma      0.000000\n",
              "close_26_ema     0.000000\n",
              "macd             0.000000\n",
              "macds            0.000000\n",
              "macdh            0.000000\n",
              "close_20_sma     0.000000\n",
              "close_20_mstd    0.000467\n",
              "boll             0.000000\n",
              "boll_ub          0.000467\n",
              "boll_lb          0.000467\n",
              "close_-1_s       0.000467\n",
              "                   ...   \n",
              "cci              0.000467\n",
              "tr               0.000467\n",
              "close_10_sma     0.000000\n",
              "close_50_sma     0.000000\n",
              "dma              0.000000\n",
              "high_delta       0.000467\n",
              "um               0.000467\n",
              "low_delta        0.000467\n",
              "dm               0.000467\n",
              "pdm              0.000000\n",
              "pdm_14_ema       0.000000\n",
              "pdm_14           0.000000\n",
              "atr_14           0.000467\n",
              "pdi_14           0.000467\n",
              "pdi              0.000467\n",
              "mdm              0.000000\n",
              "mdm_14_ema       0.000000\n",
              "mdm_14           0.000000\n",
              "mdi_14           0.000467\n",
              "mdi              0.000467\n",
              "dx_14            0.000467\n",
              "dx               0.000467\n",
              "dx_6_ema         0.000467\n",
              "adx              0.000467\n",
              "adx_6_ema        0.000467\n",
              "adxr             0.000467\n",
              "change           0.000467\n",
              "vr               0.000467\n",
              "vr_10_sma        0.000467\n",
              "trix             0.000467\n",
              "Length: 68, dtype: float64"
            ]
          },
          "metadata": {
            "tags": []
          },
          "execution_count": 8
        }
      ]
    },
    {
      "metadata": {
        "id": "93-kVXU9K3jk",
        "colab_type": "code",
        "colab": {}
      },
      "cell_type": "code",
      "source": [
        "data.dropna(inplace=True)"
      ],
      "execution_count": 0,
      "outputs": []
    },
    {
      "metadata": {
        "id": "AdTQIpzLLjve",
        "colab_type": "code",
        "colab": {}
      },
      "cell_type": "code",
      "source": [
        "rf = LinearRegression()"
      ],
      "execution_count": 0,
      "outputs": []
    },
    {
      "metadata": {
        "id": "MZf76jF3K6gP",
        "colab_type": "code",
        "colab": {}
      },
      "cell_type": "code",
      "source": [
        "X = data.drop(['open', 'high', 'low', 'close', 'adj close', 'volume', 'middle', 'close_-1_s'], axis=1).shift(10).dropna()\n",
        "y = (data['adj close'] > data['adj close'].shift(10)).dropna()\n",
        "\n",
        "trainX, testX, trainY, testY = train_test_split(X.values, y[10:].values, test_size=.2)"
      ],
      "execution_count": 0,
      "outputs": []
    },
    {
      "metadata": {
        "id": "StIPlsxJL8hH",
        "colab_type": "code",
        "outputId": "17c2cda5-10eb-465c-b8b7-22e6fbf924bc",
        "colab": {
          "base_uri": "https://localhost:8080/",
          "height": 51
        }
      },
      "cell_type": "code",
      "source": [
        "rf.fit(trainX, trainY)"
      ],
      "execution_count": 12,
      "outputs": [
        {
          "output_type": "execute_result",
          "data": {
            "text/plain": [
              "LinearRegression(copy_X=True, fit_intercept=True, n_jobs=None,\n",
              "         normalize=False)"
            ]
          },
          "metadata": {
            "tags": []
          },
          "execution_count": 12
        }
      ]
    },
    {
      "metadata": {
        "id": "x-bTocAeVQCD",
        "colab_type": "code",
        "outputId": "056dd675-3fac-40b9-9cb6-1676e2b48727",
        "colab": {
          "base_uri": "https://localhost:8080/",
          "height": 34
        }
      },
      "cell_type": "code",
      "source": [
        "mean_squared_error(testY, rf.predict(testX))"
      ],
      "execution_count": 13,
      "outputs": [
        {
          "output_type": "execute_result",
          "data": {
            "text/plain": [
              "0.24789014053342245"
            ]
          },
          "metadata": {
            "tags": []
          },
          "execution_count": 13
        }
      ]
    },
    {
      "metadata": {
        "id": "dL6QBcx_MDla",
        "colab_type": "code",
        "outputId": "0faa3704-d020-462f-99dc-9f1dc34c7f65",
        "colab": {
          "base_uri": "https://localhost:8080/",
          "height": 1037
        }
      },
      "cell_type": "code",
      "source": [
        "for i in range(len(X.keys())):\n",
        "  print(X.keys()[i], rf.coef_[i] * 100)"
      ],
      "execution_count": 14,
      "outputs": [
        {
          "output_type": "stream",
          "text": [
            "cr 0.14508524548360668\n",
            "cr-ma1 -0.02975747864829481\n",
            "cr-ma2 -0.09557174953297551\n",
            "cr-ma3 0.0166270564570296\n",
            "CR 0.1449849117182015\n",
            "rsv_9 -0.292539027318734\n",
            "kdjk_9 -55890071782.43655\n",
            "kdjk -56792981265.08198\n",
            "kdjd_9 37846309836.471756\n",
            "kdjd 37275725528.49181\n",
            "kdjj_9 18306171356.68829\n",
            "kdjj 19254846325.4172\n",
            "open_10_sma -3.7527747602435975\n",
            "close_26_ema 3.111803857882563\n",
            "macd -952892890.6710135\n",
            "macds 952892891.2142687\n",
            "macdh 476446448.25848806\n",
            "close_20_sma -277210369818.4305\n",
            "close_20_mstd -135096513784.62155\n",
            "boll -277437268145.1052\n",
            "boll_ub 311097947428.4826\n",
            "boll_lb 243549690535.09146\n",
            "close_-1_d 0.02475564411012522\n",
            "rs_10 -4.711840672774301\n",
            "rsi_10 257390114.95452872\n",
            "rsi -257390112.85543567\n",
            "wr_10 305928909.04424226\n",
            "wr -305928909.32318175\n",
            "middle_10_sma 20.157168356980122\n",
            "cci_10 2853650631.3428226\n",
            "cci -2853650631.296642\n",
            "tr 0.0787969153166368\n",
            "close_10_sma 131815466322.08664\n",
            "close_50_sma -131815466341.66502\n",
            "dma -131815466341.28279\n",
            "high_delta -0.1919180154800415\n",
            "um 5.387568473815918\n",
            "low_delta -0.07524490356445312\n",
            "dm -0.5187630653381348\n",
            "pdm -3.9400219917297363\n",
            "pdm_14_ema 10182995.141148567\n",
            "pdm_14 -10183006.419050694\n",
            "atr_14 -0.6452560424804688\n",
            "pdi_14 -200730738.236773\n",
            "pdi 200730737.4727726\n",
            "mdm -0.14067888259887695\n",
            "mdm_14_ema 102241566.68800563\n",
            "mdm_14 -102241565.0668852\n",
            "mdi_14 -657937814.5222425\n",
            "mdi 657937815.6315595\n",
            "dx_14 -116572719.47780848\n",
            "dx 116572719.36449409\n",
            "dx_6_ema -207118352.11160183\n",
            "adx 207118352.8249979\n",
            "adx_6_ema 277797477.3864329\n",
            "adxr -277797478.04704905\n",
            "change -1.3852596282958984\n",
            "vr -0.1518726348876953\n",
            "vr_10_sma 0.18388032913208008\n",
            "trix 0.271761417388916\n"
          ],
          "name": "stdout"
        }
      ]
    },
    {
      "metadata": {
        "id": "5r8KKJsDNAz7",
        "colab_type": "code",
        "outputId": "d2462381-0a9b-4751-fb12-5ab6b446b44b",
        "colab": {
          "base_uri": "https://localhost:8080/",
          "height": 571
        }
      },
      "cell_type": "code",
      "source": [
        "plt.xticks(rotation=90, fontsize=10)\n",
        "plt.rcParams[\"figure.figsize\"] = (20,8)\n",
        "plt.bar([a for a in X.keys()], abs(rf.coef_), width=.5, color='red')"
      ],
      "execution_count": 16,
      "outputs": [
        {
          "output_type": "execute_result",
          "data": {
            "text/plain": [
              "<Container object of 60 artists>"
            ]
          },
          "metadata": {
            "tags": []
          },
          "execution_count": 16
        },
        {
          "output_type": "display_data",
          "data": {
            "image/png": "[encoded data removed]",
            "text/plain": [
              "<matplotlib.figure.Figure at 0x7f7aa276ad30>"
            ]
          },
          "metadata": {
            "tags": []
          }
        }
      ]
    },
    {
      "metadata": {
        "id": "UqgsGtjMbHlv",
        "colab_type": "text"
      },
      "cell_type": "markdown",
      "source": [
        "Conclusion: Bollinger bands, and Moving Averages are the most important indicators of the closing price."
      ]
    }
  ]
}